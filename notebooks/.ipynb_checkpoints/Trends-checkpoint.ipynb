{
 "cells": [
  {
   "cell_type": "code",
   "execution_count": 1,
   "id": "787a91bc",
   "metadata": {},
   "outputs": [],
   "source": [
    "import pandas as pd\n",
    "import numpy as np\n",
    "from dotenv import load_dotenv\n",
    "from pathlib import Path\n",
    "import os\n",
    "\n",
    "dotenv_path = Path(\".env\")\n",
    "load_dotenv(dotenv_path=dotenv_path)\n",
    "\n",
    "USER = os.getenv(\"USER\")\n",
    "PASSWORD = os.getenv(\"PASSWORD\")\n",
    "AUTH = os.getenv(\"AUTH\")\n",
    "\n"
   ]
  },
  {
   "cell_type": "code",
   "execution_count": 2,
   "id": "2ccc7a8f",
   "metadata": {},
   "outputs": [
    {
     "data": {
      "text/plain": [
       "(79607, 19)"
      ]
     },
     "execution_count": 2,
     "metadata": {},
     "output_type": "execute_result"
    }
   ],
   "source": [
    "df = pd.read_csv('sociogramBBDD.csv')\n",
    "df.shape"
   ]
  },
  {
   "cell_type": "code",
   "execution_count": 3,
   "id": "114b0b38",
   "metadata": {},
   "outputs": [
    {
     "data": {
      "text/plain": [
       "Index(['index', 'id', 'name', 'answerId', 'surveyId', 'created_at',\n",
       "       'updated_at', 'question_id', 'enrollmentId', 'response_content',\n",
       "       'question_id_text_left', 'question', 'Answers',\n",
       "       'question_id_text_right', ' Nº', 'Tipo de Grafico (Analisis)',\n",
       "       'Pregunta Obligatoria', 'Questions Text Name', 'id_survey'],\n",
       "      dtype='object')"
      ]
     },
     "execution_count": 3,
     "metadata": {},
     "output_type": "execute_result"
    }
   ],
   "source": [
    "df.columns"
   ]
  },
  {
   "cell_type": "code",
   "execution_count": 4,
   "id": "2812639f",
   "metadata": {},
   "outputs": [],
   "source": [
    "\n",
    "df2 = pd.read_csv('consolidado_sociogramas.csv')"
   ]
  },
  {
   "cell_type": "code",
   "execution_count": 5,
   "id": "230b9cac",
   "metadata": {},
   "outputs": [
    {
     "data": {
      "text/plain": [
       "(79607, 19)"
      ]
     },
     "execution_count": 5,
     "metadata": {},
     "output_type": "execute_result"
    }
   ],
   "source": [
    "df.shape"
   ]
  },
  {
   "cell_type": "code",
   "execution_count": 6,
   "id": "ca3eb79a",
   "metadata": {},
   "outputs": [
    {
     "data": {
      "text/plain": [
       "(79607, 27)"
      ]
     },
     "execution_count": 6,
     "metadata": {},
     "output_type": "execute_result"
    }
   ],
   "source": [
    "df_final = df.merge(df2, left_on='id_survey', right_on='id')\n",
    "\n",
    "df_final.shape"
   ]
  },
  {
   "cell_type": "code",
   "execution_count": 7,
   "id": "4a9b3940",
   "metadata": {},
   "outputs": [
    {
     "data": {
      "text/html": [
       "<div>\n",
       "<style scoped>\n",
       "    .dataframe tbody tr th:only-of-type {\n",
       "        vertical-align: middle;\n",
       "    }\n",
       "\n",
       "    .dataframe tbody tr th {\n",
       "        vertical-align: top;\n",
       "    }\n",
       "\n",
       "    .dataframe thead th {\n",
       "        text-align: right;\n",
       "    }\n",
       "</style>\n",
       "<table border=\"1\" class=\"dataframe\">\n",
       "  <thead>\n",
       "    <tr style=\"text-align: right;\">\n",
       "      <th></th>\n",
       "      <th>question_id</th>\n",
       "    </tr>\n",
       "    <tr>\n",
       "      <th>Answers</th>\n",
       "      <th></th>\n",
       "    </tr>\n",
       "  </thead>\n",
       "  <tbody>\n",
       "    <tr>\n",
       "      <th>Aislándolo(a) o rechazándolo(a)</th>\n",
       "      <td>18.61</td>\n",
       "    </tr>\n",
       "    <tr>\n",
       "      <th>Otra</th>\n",
       "      <td>16.60</td>\n",
       "    </tr>\n",
       "    <tr>\n",
       "      <th>Con insultos o amenzas</th>\n",
       "      <td>16.06</td>\n",
       "    </tr>\n",
       "    <tr>\n",
       "      <th>Inventando rumores sobre él/ella</th>\n",
       "      <td>13.92</td>\n",
       "    </tr>\n",
       "    <tr>\n",
       "      <th>Discriminándole</th>\n",
       "      <td>12.99</td>\n",
       "    </tr>\n",
       "    <tr>\n",
       "      <th>Con golpes o empujones</th>\n",
       "      <td>8.17</td>\n",
       "    </tr>\n",
       "    <tr>\n",
       "      <th>Molestándolo(a) a través de internet o redes sociales</th>\n",
       "      <td>7.63</td>\n",
       "    </tr>\n",
       "    <tr>\n",
       "      <th>Robando o rompiendo sus cosas</th>\n",
       "      <td>6.02</td>\n",
       "    </tr>\n",
       "  </tbody>\n",
       "</table>\n",
       "</div>"
      ],
      "text/plain": [
       "                                                    question_id\n",
       "Answers                                                        \n",
       "Aislándolo(a) o rechazándolo(a)                           18.61\n",
       "Otra                                                      16.60\n",
       "Con insultos o amenzas                                    16.06\n",
       "Inventando rumores sobre él/ella                          13.92\n",
       "Discriminándole                                           12.99\n",
       "Con golpes o empujones                                     8.17\n",
       "Molestándolo(a) a través de internet o redes so...         7.63\n",
       "Robando o rompiendo sus cosas                              6.02"
      ]
     },
     "execution_count": 7,
     "metadata": {},
     "output_type": "execute_result"
    }
   ],
   "source": [
    "np.round((df_final[df_final.question_id == 42][['Answers', 'question_id']].groupby(['Answers'])\n",
    "                                                                 .count()/\n",
    "                                                                 df_final[df_final.question_id == 42]\n",
    "                                                                 .shape[0])\n",
    "                                                                 .sort_values('question_id', ascending=False)*100,2)"
   ]
  },
  {
   "cell_type": "code",
   "execution_count": 8,
   "id": "c0b1dba2",
   "metadata": {},
   "outputs": [
    {
     "name": "stdout",
     "output_type": "stream",
     "text": [
      "4\n",
      "                                                    question_id\n",
      "Answers                                                        \n",
      "Con insultos o amenzas                                    28.10\n",
      "Otra                                                      21.49\n",
      "Aislándolo(a) o rechazándolo(a)                           13.22\n",
      "Con golpes o empujones                                     9.92\n",
      "Discriminándole                                            9.92\n",
      "Inventando rumores sobre él/ella                           9.09\n",
      "Molestándolo(a) a través de internet o redes so...         4.13\n",
      "Robando o rompiendo sus cosas                              4.13\n",
      "5\n",
      "                                                    question_id\n",
      "Answers                                                        \n",
      "Otra                                                      23.96\n",
      "Inventando rumores sobre él/ella                          20.83\n",
      "Discriminándole                                           14.58\n",
      "Aislándolo(a) o rechazándolo(a)                           13.54\n",
      "Con insultos o amenzas                                    11.46\n",
      "Robando o rompiendo sus cosas                              6.25\n",
      "Molestándolo(a) a través de internet o redes so...         5.21\n",
      "Con golpes o empujones                                     4.17\n",
      "6\n",
      "                                                    question_id\n",
      "Answers                                                        \n",
      "Inventando rumores sobre él/ella                          26.23\n",
      "Aislándolo(a) o rechazándolo(a)                           22.95\n",
      "Discriminándole                                           14.75\n",
      "Otra                                                      13.11\n",
      "Con insultos o amenzas                                    11.48\n",
      "Molestándolo(a) a través de internet o redes so...         6.56\n",
      "Con golpes o empujones                                     4.92\n",
      "7\n",
      "                                                    question_id\n",
      "Answers                                                        \n",
      "Aislándolo(a) o rechazándolo(a)                           20.27\n",
      "Inventando rumores sobre él/ella                          17.57\n",
      "Con insultos o amenzas                                    14.86\n",
      "Otra                                                      13.51\n",
      "Discriminándole                                           10.81\n",
      "Molestándolo(a) a través de internet o redes so...        10.81\n",
      "Robando o rompiendo sus cosas                              6.76\n",
      "Con golpes o empujones                                     5.41\n",
      "8\n",
      "                                                    question_id\n",
      "Answers                                                        \n",
      "Aislándolo(a) o rechazándolo(a)                           19.01\n",
      "Con insultos o amenzas                                    17.36\n",
      "Discriminándole                                           14.05\n",
      "Otra                                                      14.05\n",
      "Inventando rumores sobre él/ella                          10.74\n",
      "Robando o rompiendo sus cosas                              9.92\n",
      "Con golpes o empujones                                     8.26\n",
      "Molestándolo(a) a través de internet o redes so...         6.61\n",
      "9\n",
      "                                                    question_id\n",
      "Answers                                                        \n",
      "Aislándolo(a) o rechazándolo(a)                           30.00\n",
      "Otra                                                      22.86\n",
      "Con insultos o amenzas                                    11.43\n",
      "Discriminándole                                           11.43\n",
      "Inventando rumores sobre él/ella                          11.43\n",
      "Molestándolo(a) a través de internet o redes so...         7.14\n",
      "Con golpes o empujones                                     4.29\n",
      "Robando o rompiendo sus cosas                              1.43\n",
      "10\n",
      "                                                    question_id\n",
      "Answers                                                        \n",
      "Aislándolo(a) o rechazándolo(a)                           18.29\n",
      "Discriminándole                                           17.07\n",
      "Otra                                                      15.85\n",
      "Con golpes o empujones                                    14.63\n",
      "Con insultos o amenzas                                    10.98\n",
      "Inventando rumores sobre él/ella                          10.98\n",
      "Molestándolo(a) a través de internet o redes so...         7.32\n",
      "Robando o rompiendo sus cosas                              4.88\n",
      "11\n",
      "                                                    question_id\n",
      "Answers                                                        \n",
      "Aislándolo(a) o rechazándolo(a)                           20.69\n",
      "Con insultos o amenzas                                    17.24\n",
      "Inventando rumores sobre él/ella                          13.79\n",
      "Con golpes o empujones                                    10.34\n",
      "Discriminándole                                           10.34\n",
      "Molestándolo(a) a través de internet o redes so...        10.34\n",
      "Robando o rompiendo sus cosas                             10.34\n",
      "Otra                                                       6.90\n",
      "12\n",
      "                                                    question_id\n",
      "Answers                                                        \n",
      "Aislándolo(a) o rechazándolo(a)                           17.20\n",
      "Con insultos o amenzas                                    15.05\n",
      "Molestándolo(a) a través de internet o redes so...        13.98\n",
      "Discriminándole                                           12.90\n",
      "Con golpes o empujones                                    10.75\n",
      "Inventando rumores sobre él/ella                          10.75\n",
      "Otra                                                       9.68\n",
      "Robando o rompiendo sus cosas                              9.68\n"
     ]
    }
   ],
   "source": [
    "for level in [i for i in range(4,13)]:\n",
    "    print(level)\n",
    "    df_filtered = df_final[(df_final.question_id == 42) & (df_final.level==level)]\n",
    "    print(np.round((df_filtered[['Answers', 'question_id']].groupby(['Answers'])\n",
    "                                                                     .count()/\n",
    "                                                                     df_filtered\n",
    "                                                                     .shape[0])\n",
    "                                                                     .sort_values('question_id', ascending=False)*100,2))"
   ]
  },
  {
   "cell_type": "code",
   "execution_count": 9,
   "id": "63d47607",
   "metadata": {},
   "outputs": [
    {
     "data": {
      "text/html": [
       "<div>\n",
       "<style scoped>\n",
       "    .dataframe tbody tr th:only-of-type {\n",
       "        vertical-align: middle;\n",
       "    }\n",
       "\n",
       "    .dataframe tbody tr th {\n",
       "        vertical-align: top;\n",
       "    }\n",
       "\n",
       "    .dataframe thead th {\n",
       "        text-align: right;\n",
       "    }\n",
       "</style>\n",
       "<table border=\"1\" class=\"dataframe\">\n",
       "  <thead>\n",
       "    <tr style=\"text-align: right;\">\n",
       "      <th></th>\n",
       "      <th>question_id</th>\n",
       "    </tr>\n",
       "    <tr>\n",
       "      <th>Answers</th>\n",
       "      <th></th>\n",
       "    </tr>\n",
       "  </thead>\n",
       "  <tbody>\n",
       "    <tr>\n",
       "      <th>Personalidad</th>\n",
       "      <td>20.75</td>\n",
       "    </tr>\n",
       "    <tr>\n",
       "      <th>Características Físicas</th>\n",
       "      <td>13.52</td>\n",
       "    </tr>\n",
       "    <tr>\n",
       "      <th>No lo sé</th>\n",
       "      <td>12.99</td>\n",
       "    </tr>\n",
       "    <tr>\n",
       "      <th>Otro</th>\n",
       "      <td>12.05</td>\n",
       "    </tr>\n",
       "    <tr>\n",
       "      <th>Sus gustos</th>\n",
       "      <td>12.05</td>\n",
       "    </tr>\n",
       "    <tr>\n",
       "      <th>Porque piensa o tiene opiniones diferentes a la mayoría</th>\n",
       "      <td>8.84</td>\n",
       "    </tr>\n",
       "    <tr>\n",
       "      <th>Por cómo le va en el colegio</th>\n",
       "      <td>5.49</td>\n",
       "    </tr>\n",
       "    <tr>\n",
       "      <th>Orientación Sexual o Identidad de género</th>\n",
       "      <td>4.02</td>\n",
       "    </tr>\n",
       "    <tr>\n",
       "      <th>Pertenecer a otra cultura o nacionalidad</th>\n",
       "      <td>3.75</td>\n",
       "    </tr>\n",
       "  </tbody>\n",
       "</table>\n",
       "</div>"
      ],
      "text/plain": [
       "                                                    question_id\n",
       "Answers                                                        \n",
       "Personalidad                                              20.75\n",
       "Características Físicas                                   13.52\n",
       "No lo sé                                                  12.99\n",
       "Otro                                                      12.05\n",
       "Sus gustos                                                12.05\n",
       "Porque piensa o tiene opiniones diferentes a la...         8.84\n",
       "Por cómo le va en el colegio                               5.49\n",
       "Orientación Sexual o Identidad de género                   4.02\n",
       "Pertenecer a otra cultura o nacionalidad                   3.75"
      ]
     },
     "execution_count": 9,
     "metadata": {},
     "output_type": "execute_result"
    }
   ],
   "source": [
    "np.round((df_final[df_final.question_id == 43][['Answers', 'question_id']].groupby(['Answers'])\n",
    "                                                                 .count()/\n",
    "                                                                 df_final[df_final.question_id == 42]\n",
    "                                                                 .shape[0])\n",
    "                                                                 .sort_values('question_id', ascending=False)*100,2)"
   ]
  },
  {
   "cell_type": "code",
   "execution_count": 10,
   "id": "7bf9fece",
   "metadata": {},
   "outputs": [
    {
     "name": "stdout",
     "output_type": "stream",
     "text": [
      "4\n",
      "                                                    question_id\n",
      "Answers                                                        \n",
      "No lo sé                                                  26.77\n",
      "Personalidad                                              22.05\n",
      "Otro                                                      21.26\n",
      "Características Físicas                                   11.02\n",
      "Sus gustos                                                 7.09\n",
      "Porque piensa o tiene opiniones diferentes a la...         5.51\n",
      "Por cómo le va en el colegio                               3.15\n",
      "Orientación Sexual o Identidad de género                   2.36\n",
      "Pertenecer a otra cultura o nacionalidad                   0.79\n",
      "5\n",
      "                                                    question_id\n",
      "Answers                                                        \n",
      "Personalidad                                              21.43\n",
      "Características Físicas                                   20.24\n",
      "No lo sé                                                  15.48\n",
      "Sus gustos                                                14.29\n",
      "Otro                                                      13.10\n",
      "Porque piensa o tiene opiniones diferentes a la...         5.95\n",
      "Por cómo le va en el colegio                               4.76\n",
      "Orientación Sexual o Identidad de género                   3.57\n",
      "Pertenecer a otra cultura o nacionalidad                   1.19\n",
      "6\n",
      "                                                    question_id\n",
      "Answers                                                        \n",
      "Porque piensa o tiene opiniones diferentes a la...        18.33\n",
      "Sus gustos                                                18.33\n",
      "Otro                                                      13.33\n",
      "Características Físicas                                   11.67\n",
      "Personalidad                                              11.67\n",
      "No lo sé                                                  10.00\n",
      "Por cómo le va en el colegio                               6.67\n",
      "Orientación Sexual o Identidad de género                   5.00\n",
      "Pertenecer a otra cultura o nacionalidad                   5.00\n",
      "7\n",
      "                                                    question_id\n",
      "Answers                                                        \n",
      "Personalidad                                              22.86\n",
      "Sus gustos                                                21.43\n",
      "Características Físicas                                   12.86\n",
      "Por cómo le va en el colegio                              12.86\n",
      "No lo sé                                                  11.43\n",
      "Otro                                                       7.14\n",
      "Porque piensa o tiene opiniones diferentes a la...         7.14\n",
      "Orientación Sexual o Identidad de género                   2.86\n",
      "Pertenecer a otra cultura o nacionalidad                   1.43\n",
      "8\n",
      "                                                    question_id\n",
      "Answers                                                        \n",
      "Personalidad                                              25.20\n",
      "Características Físicas                                   17.07\n",
      "Sus gustos                                                14.63\n",
      "Otro                                                      12.20\n",
      "Porque piensa o tiene opiniones diferentes a la...        11.38\n",
      "No lo sé                                                   8.13\n",
      "Pertenecer a otra cultura o nacionalidad                   7.32\n",
      "Por cómo le va en el colegio                               2.44\n",
      "Orientación Sexual o Identidad de género                   1.63\n",
      "9\n",
      "                                                    question_id\n",
      "Answers                                                        \n",
      "Personalidad                                              33.33\n",
      "Otro                                                      14.04\n",
      "Características Físicas                                   12.28\n",
      "No lo sé                                                  12.28\n",
      "Porque piensa o tiene opiniones diferentes a la...        10.53\n",
      "Sus gustos                                                 8.77\n",
      "Orientación Sexual o Identidad de género                   7.02\n",
      "Por cómo le va en el colegio                               1.75\n",
      "10\n",
      "                                                    question_id\n",
      "Answers                                                        \n",
      "Personalidad                                              21.21\n",
      "Características Físicas                                   16.67\n",
      "No lo sé                                                  12.12\n",
      "Sus gustos                                                12.12\n",
      "Pertenecer a otra cultura o nacionalidad                   9.09\n",
      "Por cómo le va en el colegio                               9.09\n",
      "Porque piensa o tiene opiniones diferentes a la...         9.09\n",
      "Orientación Sexual o Identidad de género                   7.58\n",
      "Otro                                                       3.03\n",
      "11\n",
      "                                                    question_id\n",
      "Answers                                                        \n",
      "Otro                                                       25.0\n",
      "No lo sé                                                   15.0\n",
      "Personalidad                                               15.0\n",
      "Características Físicas                                    10.0\n",
      "Orientación Sexual o Identidad de género                   10.0\n",
      "Pertenecer a otra cultura o nacionalidad                   10.0\n",
      "Porque piensa o tiene opiniones diferentes a la...         10.0\n",
      "Por cómo le va en el colegio                                5.0\n",
      "12\n",
      "                                                    question_id\n",
      "Answers                                                        \n",
      "Personalidad                                              20.88\n",
      "Características Físicas                                   14.29\n",
      "Sus gustos                                                13.19\n",
      "Porque piensa o tiene opiniones diferentes a la...        10.99\n",
      "Otro                                                       9.89\n",
      "Por cómo le va en el colegio                               9.89\n",
      "No lo sé                                                   8.79\n",
      "Orientación Sexual o Identidad de género                   6.59\n",
      "Pertenecer a otra cultura o nacionalidad                   5.49\n"
     ]
    }
   ],
   "source": [
    "for level in [i for i in range(4,13)]:\n",
    "    print(level)\n",
    "    df_filtered = df_final[(df_final.question_id == 43) & (df_final.level==level)]\n",
    "    print(np.round((df_filtered[['Answers', 'question_id']].groupby(['Answers'])\n",
    "                                                                     .count()/\n",
    "                                                                     df_filtered\n",
    "                                                                     .shape[0])\n",
    "                                                                     .sort_values('question_id', ascending=False)*100,2))"
   ]
  },
  {
   "cell_type": "code",
   "execution_count": null,
   "id": "16cbc85d",
   "metadata": {},
   "outputs": [],
   "source": []
  },
  {
   "cell_type": "code",
   "execution_count": 11,
   "id": "bee26816",
   "metadata": {},
   "outputs": [
    {
     "data": {
      "text/plain": [
       "(79607, 27)"
      ]
     },
     "execution_count": 11,
     "metadata": {},
     "output_type": "execute_result"
    }
   ],
   "source": [
    "df_final.shape"
   ]
  },
  {
   "cell_type": "code",
   "execution_count": 12,
   "id": "1826f6c3",
   "metadata": {},
   "outputs": [],
   "source": [
    "df2_feel1 = df_final[df_final.question_id==44][['name','Answers']]\n",
    "df2_feel1.columns = ['name', 'feel1']\n",
    "df_consolidated = df_final.merge(df2_feel1, on='name')\n",
    "\n",
    "\n",
    "df2_feel2 = df_final[df_final.question_id==45][['name','Answers']]\n",
    "df2_feel2.columns = ['name', 'feel2']\n",
    "df_consolidated = df_consolidated.merge(df2_feel2, on='name')"
   ]
  },
  {
   "cell_type": "code",
   "execution_count": 13,
   "id": "c3af31c7",
   "metadata": {},
   "outputs": [],
   "source": [
    "df2_count =  df_consolidated[df_consolidated.question_id==39][['name','answerId']].groupby('name').count().reset_index()\n",
    "df2_count['shift_mean'] = df2_count['answerId'] - np.round(df2_count['answerId'].mean())\n",
    "df2_count.columns = ['name', 'friend_arcs', 'shift_mean']\n",
    "df_consolidated = df_consolidated.merge(df2_count, on='name')"
   ]
  },
  {
   "cell_type": "code",
   "execution_count": 14,
   "id": "b112b059",
   "metadata": {},
   "outputs": [
    {
     "data": {
      "text/html": [
       "<div>\n",
       "<style scoped>\n",
       "    .dataframe tbody tr th:only-of-type {\n",
       "        vertical-align: middle;\n",
       "    }\n",
       "\n",
       "    .dataframe tbody tr th {\n",
       "        vertical-align: top;\n",
       "    }\n",
       "\n",
       "    .dataframe thead th {\n",
       "        text-align: right;\n",
       "    }\n",
       "</style>\n",
       "<table border=\"1\" class=\"dataframe\">\n",
       "  <thead>\n",
       "    <tr style=\"text-align: right;\">\n",
       "      <th></th>\n",
       "      <th>name</th>\n",
       "      <th>friend_arcs</th>\n",
       "      <th>shift_mean</th>\n",
       "    </tr>\n",
       "  </thead>\n",
       "  <tbody>\n",
       "    <tr>\n",
       "      <th>0</th>\n",
       "      <td>cristian roa</td>\n",
       "      <td>1</td>\n",
       "      <td>-1.0</td>\n",
       "    </tr>\n",
       "    <tr>\n",
       "      <th>1</th>\n",
       "      <td>AGUILERA CASTILLO AGUSTÍN MARCELO</td>\n",
       "      <td>1</td>\n",
       "      <td>-1.0</td>\n",
       "    </tr>\n",
       "    <tr>\n",
       "      <th>2</th>\n",
       "      <td>AGUILERA CASTILLO MARIANA DE LOS ANGELES</td>\n",
       "      <td>1</td>\n",
       "      <td>-1.0</td>\n",
       "    </tr>\n",
       "    <tr>\n",
       "      <th>3</th>\n",
       "      <td>AGUIRRE WAINGORTIN BENJAMÍN</td>\n",
       "      <td>1</td>\n",
       "      <td>-1.0</td>\n",
       "    </tr>\n",
       "    <tr>\n",
       "      <th>4</th>\n",
       "      <td>AGURTO KLABER DIEGO</td>\n",
       "      <td>1</td>\n",
       "      <td>-1.0</td>\n",
       "    </tr>\n",
       "    <tr>\n",
       "      <th>...</th>\n",
       "      <td>...</td>\n",
       "      <td>...</td>\n",
       "      <td>...</td>\n",
       "    </tr>\n",
       "    <tr>\n",
       "      <th>1741</th>\n",
       "      <td>tomas cerda marcelo cid</td>\n",
       "      <td>6</td>\n",
       "      <td>4.0</td>\n",
       "    </tr>\n",
       "    <tr>\n",
       "      <th>1742</th>\n",
       "      <td>trinidad flores</td>\n",
       "      <td>1</td>\n",
       "      <td>-1.0</td>\n",
       "    </tr>\n",
       "    <tr>\n",
       "      <th>1743</th>\n",
       "      <td>vicente martinez</td>\n",
       "      <td>1</td>\n",
       "      <td>-1.0</td>\n",
       "    </tr>\n",
       "    <tr>\n",
       "      <th>1744</th>\n",
       "      <td>vicente sanhueza</td>\n",
       "      <td>1</td>\n",
       "      <td>-1.0</td>\n",
       "    </tr>\n",
       "    <tr>\n",
       "      <th>1745</th>\n",
       "      <td>Álvaro Ezequiel Correa Riquelme</td>\n",
       "      <td>1</td>\n",
       "      <td>-1.0</td>\n",
       "    </tr>\n",
       "  </tbody>\n",
       "</table>\n",
       "<p>1746 rows × 3 columns</p>\n",
       "</div>"
      ],
      "text/plain": [
       "                                           name  friend_arcs  shift_mean\n",
       "0                                  cristian roa            1        -1.0\n",
       "1            AGUILERA CASTILLO AGUSTÍN MARCELO             1        -1.0\n",
       "2     AGUILERA CASTILLO MARIANA DE LOS ANGELES             1        -1.0\n",
       "3                   AGUIRRE WAINGORTIN BENJAMÍN            1        -1.0\n",
       "4                          AGURTO KLABER DIEGO             1        -1.0\n",
       "...                                         ...          ...         ...\n",
       "1741                    tomas cerda marcelo cid            6         4.0\n",
       "1742                            trinidad flores            1        -1.0\n",
       "1743                           vicente martinez            1        -1.0\n",
       "1744                           vicente sanhueza            1        -1.0\n",
       "1745            Álvaro Ezequiel Correa Riquelme            1        -1.0\n",
       "\n",
       "[1746 rows x 3 columns]"
      ]
     },
     "execution_count": 14,
     "metadata": {},
     "output_type": "execute_result"
    }
   ],
   "source": [
    "df2_count"
   ]
  },
  {
   "cell_type": "code",
   "execution_count": 15,
   "id": "376bb58d",
   "metadata": {},
   "outputs": [
    {
     "data": {
      "image/png": "[encoded data removed]",
      "text/plain": [
       "<Figure size 1130.4x451.44 with 1 Axes>"
      ]
     },
     "metadata": {
      "needs_background": "light"
     },
     "output_type": "display_data"
    }
   ],
   "source": [
    "import seaborn as sns\n",
    "import matplotlib.pylab as plt\n",
    "MEDIA=[9.0, 10.0, 11.0, 12.0]\n",
    "fig = plt.figure(figsize=(15.7,6.27))\n",
    "\n",
    "ax = sns.boxplot(x=\"feel2\", y=\"shift_mean\", \n",
    "                 order=[\"Muy mal\", \"Mal\", \"Más o menos\", \"Bien\", \"Muy bien\"], hue='level',\n",
    "                 data=df_consolidated[df_consolidated.level.isin(MEDIA)], palette=\"Set3\")\n",
    "ax.hlines(df_consolidated[df_consolidated.level.isin(MEDIA)].shift_mean.mean(), xmin=-1, xmax=5, color='blue')\n",
    "ax.legend(loc='upper left',ncol=12, title=\"Nivel\")\n",
    "plt.show()"
   ]
  },
  {
   "cell_type": "code",
   "execution_count": 16,
   "id": "084927bf",
   "metadata": {},
   "outputs": [
    {
     "data": {
      "image/png": "[encoded data removed]",
      "text/plain": [
       "<Figure size 1130.4x451.44 with 1 Axes>"
      ]
     },
     "metadata": {
      "needs_background": "light"
     },
     "output_type": "display_data"
    }
   ],
   "source": [
    "import seaborn as sns\n",
    "import matplotlib.pylab as plt\n",
    "BASICA=[4.0, 5.0, 6.0, 7.0, 8.0]\n",
    "fig = plt.figure(figsize=(15.7,6.27))\n",
    "\n",
    "ax = sns.boxplot(x=\"feel2\", y=\"shift_mean\", \n",
    "                 order=[\"Muy mal\", \"Mal\", \"Más o menos\", \"Bien\", \"Muy bien\"], hue='level',\n",
    "                 data=df_consolidated[df_consolidated.level.isin(BASICA)], palette=\"Set3\")\n",
    "ax.hlines(df_consolidated[df_consolidated.level.isin(BASICA)].shift_mean.mean(), xmin=-1, xmax=5, color='blue')\n",
    "ax.legend(loc='upper left',ncol=12, title=\"Nivel\")\n",
    "plt.show()"
   ]
  },
  {
   "cell_type": "code",
   "execution_count": 17,
   "id": "22136f88",
   "metadata": {},
   "outputs": [],
   "source": [
    "df_final = df_final[(df_final.question_id==36)][['level','enrollmentId','index']].groupby('enrollmentId').agg({'index': ['count'], 'level': 'mean'})"
   ]
  },
  {
   "cell_type": "code",
   "execution_count": 18,
   "id": "459dce19",
   "metadata": {},
   "outputs": [],
   "source": [
    "df_final = df_final.droplevel(level=1, axis=1).groupby('level').agg({'index': ['mean', 'std','count']})"
   ]
  },
  {
   "cell_type": "code",
   "execution_count": 19,
   "id": "768d8e6f",
   "metadata": {},
   "outputs": [
    {
     "data": {
      "text/html": [
       "<div>\n",
       "<style scoped>\n",
       "    .dataframe tbody tr th:only-of-type {\n",
       "        vertical-align: middle;\n",
       "    }\n",
       "\n",
       "    .dataframe tbody tr th {\n",
       "        vertical-align: top;\n",
       "    }\n",
       "\n",
       "    .dataframe thead th {\n",
       "        text-align: right;\n",
       "    }\n",
       "</style>\n",
       "<table border=\"1\" class=\"dataframe\">\n",
       "  <thead>\n",
       "    <tr style=\"text-align: right;\">\n",
       "      <th></th>\n",
       "      <th>level</th>\n",
       "      <th>index</th>\n",
       "      <th>index</th>\n",
       "      <th>index</th>\n",
       "    </tr>\n",
       "  </thead>\n",
       "  <tbody>\n",
       "    <tr>\n",
       "      <th>0</th>\n",
       "      <td>4.0</td>\n",
       "      <td>7.302326</td>\n",
       "      <td>6.459174</td>\n",
       "      <td>172</td>\n",
       "    </tr>\n",
       "    <tr>\n",
       "      <th>1</th>\n",
       "      <td>5.0</td>\n",
       "      <td>5.782946</td>\n",
       "      <td>3.418610</td>\n",
       "      <td>129</td>\n",
       "    </tr>\n",
       "    <tr>\n",
       "      <th>2</th>\n",
       "      <td>6.0</td>\n",
       "      <td>5.800000</td>\n",
       "      <td>4.016246</td>\n",
       "      <td>130</td>\n",
       "    </tr>\n",
       "    <tr>\n",
       "      <th>3</th>\n",
       "      <td>7.0</td>\n",
       "      <td>5.242938</td>\n",
       "      <td>4.398188</td>\n",
       "      <td>177</td>\n",
       "    </tr>\n",
       "    <tr>\n",
       "      <th>4</th>\n",
       "      <td>8.0</td>\n",
       "      <td>5.800866</td>\n",
       "      <td>4.501613</td>\n",
       "      <td>231</td>\n",
       "    </tr>\n",
       "    <tr>\n",
       "      <th>5</th>\n",
       "      <td>9.0</td>\n",
       "      <td>6.126722</td>\n",
       "      <td>4.525609</td>\n",
       "      <td>363</td>\n",
       "    </tr>\n",
       "    <tr>\n",
       "      <th>6</th>\n",
       "      <td>10.0</td>\n",
       "      <td>5.200000</td>\n",
       "      <td>6.571907</td>\n",
       "      <td>240</td>\n",
       "    </tr>\n",
       "    <tr>\n",
       "      <th>7</th>\n",
       "      <td>11.0</td>\n",
       "      <td>4.102941</td>\n",
       "      <td>2.942107</td>\n",
       "      <td>136</td>\n",
       "    </tr>\n",
       "    <tr>\n",
       "      <th>8</th>\n",
       "      <td>12.0</td>\n",
       "      <td>4.497207</td>\n",
       "      <td>3.217533</td>\n",
       "      <td>179</td>\n",
       "    </tr>\n",
       "  </tbody>\n",
       "</table>\n",
       "</div>"
      ],
      "text/plain": [
       "   level     index     index  index\n",
       "0    4.0  7.302326  6.459174    172\n",
       "1    5.0  5.782946  3.418610    129\n",
       "2    6.0  5.800000  4.016246    130\n",
       "3    7.0  5.242938  4.398188    177\n",
       "4    8.0  5.800866  4.501613    231\n",
       "5    9.0  6.126722  4.525609    363\n",
       "6   10.0  5.200000  6.571907    240\n",
       "7   11.0  4.102941  2.942107    136\n",
       "8   12.0  4.497207  3.217533    179"
      ]
     },
     "execution_count": 19,
     "metadata": {},
     "output_type": "execute_result"
    }
   ],
   "source": [
    "df_final = df_final.droplevel(level=1, axis=1).reset_index()\n",
    "df_final"
   ]
  },
  {
   "cell_type": "code",
   "execution_count": 20,
   "id": "ab1afeb6",
   "metadata": {},
   "outputs": [
    {
     "data": {
      "image/png": "[encoded data removed]",
      "text/plain": [
       "<Figure size 1130.4x451.44 with 1 Axes>"
      ]
     },
     "metadata": {
      "needs_background": "dark"
     },
     "output_type": "display_data"
    }
   ],
   "source": [
    "df_final = df.merge(df2, left_on='id_survey', right_on='id')\n",
    "df_final = df_final[(df_final.question_id==36)][['level','enrollmentId','id_survey']].groupby('enrollmentId').agg({'id_survey': ['count'], 'level': 'mean'})\n",
    "df_final = df_final.droplevel(level=1, axis=1).groupby('level').agg({'id_survey': ['mean', 'std','count']})\n",
    "df_final = df_final.droplevel(level=0, axis=1).reset_index()\n",
    "df_final\n",
    "\n",
    "import matplotlib.pylab as plt\n",
    "import seaborn as sns\n",
    "fig = plt.figure(figsize=(15.7,6.27))\n",
    "ax = fig.add_subplot(111)\n",
    "ax.grid(False)\n",
    "sns.set_style(\"white\")\n",
    "[t.set_color('#898A89') for t in ax.xaxis.get_ticklines()]\n",
    "[t.set_color('#898A89') for t in ax.xaxis.get_ticklabels()]\n",
    "[t.set_color('#898A89') for t in ax.yaxis.get_ticklines()]\n",
    "[t.set_color('#898A89') for t in ax.yaxis.get_ticklabels()]\n",
    "plt.scatter(df_final['level'], df_final['mean'], color='#17bebb', s=60)\n",
    "plt.errorbar(df_final['level'], df_final['mean'], yerr=df_final['std'], color='#17bebb', alpha=0.4)\n",
    "\n",
    "plt.ylim(0, df_final['mean'].max()+df_final['std'].max()*1.1)\n",
    "plt.hlines(df_final['mean'].mean(), xmin=3, xmax=13, color='#7252ad', alpha=0.6, linestyle='dotted')\n",
    "plt.ylabel('Compañeros seleccionados', color='#898A89')\n",
    "plt.xlabel('Nivel', color='#898A89')\n",
    "ax.set_xticks([i for i in range(4, 13)])\n",
    "ax.set_xticklabels([str(i) for i in range(4, 13)])\n",
    "plt.title('Análisis por nivel red de amistad',color='#898A89')\n",
    "plt.xlim(3,13)\n",
    "plt.show()"
   ]
  },
  {
   "cell_type": "code",
   "execution_count": null,
   "id": "7ec1c302",
   "metadata": {},
   "outputs": [],
   "source": []
  }
 ],
 "metadata": {
  "kernelspec": {
   "display_name": "Python 3 (ipykernel)",
   "language": "python",
   "name": "python3"
  },
  "language_info": {
   "codemirror_mode": {
    "name": "ipython",
    "version": 3
   },
   "file_extension": ".py",
   "mimetype": "text/x-python",
   "name": "python",
   "nbconvert_exporter": "python",
   "pygments_lexer": "ipython3",
   "version": "3.7.3"
  }
 },
 "nbformat": 4,
 "nbformat_minor": 5
}
