{
 "cells": [
  {
   "cell_type": "code",
   "execution_count": 4,
   "id": "ecd7590f",
   "metadata": {},
   "outputs": [],
   "source": [
    "import requests\n",
    "import json\n",
    "import matplotlib.pyplot as plt "
   ]
  },
  {
   "cell_type": "code",
   "execution_count": 5,
   "id": "0557bea6",
   "metadata": {},
   "outputs": [],
   "source": [
    "from dotenv import load_dotenv\n",
    "from pathlib import Path\n",
    "import os\n",
    "dotenv_path = Path(\".env\")\n",
    "load_dotenv(dotenv_path=dotenv_path)\n",
    "USER = os.getenv(\"USER\")\n",
    "PASSWORD = os.getenv(\"PASSWORD\")\n",
    "AUTH = os.getenv(\"AUTH\")"
   ]
  },
  {
   "cell_type": "code",
   "execution_count": null,
   "id": "4f297f6f",
   "metadata": {},
   "outputs": [],
   "source": [
    "from jsontodf.transform import * "
   ]
  },
  {
   "cell_type": "code",
   "execution_count": null,
   "id": "444948da",
   "metadata": {},
   "outputs": [],
   "source": [
    "url = \"http://api.braveup.co/accounts/signin\"\n",
    "payload = json.dumps({\n",
    "  \"email\": USER,\n",
    "  \"password\": PASSWORD\n",
    "})\n",
    "headers = {\n",
    "  'Authorization': AUTH,\n",
    "  'Content-Type': 'application/json'\n",
    "}\n",
    "response = requests.request(\"POST\", url, headers=headers, data=payload)\n",
    "#print(response.text)\n",
    "\n",
    "json.loads(response.text)['idToken']\n",
    "\n",
    "headers = {}\n",
    "headers['Authorization'] = 'Bearer '+json.loads(response.text)['idToken']\n",
    "headers['Content-Type'] = 'application/json'    \n",
    "counter = 0"
   ]
  },
  {
   "cell_type": "code",
   "execution_count": null,
   "id": "35e5f9ab",
   "metadata": {},
   "outputs": [],
   "source": [
    "master = pd.read_csv('consolidado_sociogramas.csv')"
   ]
  },
  {
   "cell_type": "code",
   "execution_count": null,
   "id": "a3d6fa2b",
   "metadata": {},
   "outputs": [],
   "source": [
    "group = master[(master.empty==False) & (master.user=='school')].id.to_list()"
   ]
  },
  {
   "cell_type": "code",
   "execution_count": null,
   "id": "d06c79f1",
   "metadata": {},
   "outputs": [],
   "source": [
    "group"
   ]
  },
  {
   "cell_type": "code",
   "execution_count": null,
   "id": "43f1a2b0",
   "metadata": {},
   "outputs": [],
   "source": [
    "for id_sociograma in group:\n",
    "    url = \"https://sociogram-api.braveup.co/survey-pre-analityc-formats/\"+str(id_sociograma)\n",
    "    payload={}\n",
    "    print('id: ', id_sociograma)\n",
    "    try: \n",
    "        response = requests.request(\"GET\", url, headers=headers)\n",
    "        query = json.loads(response.text)\n",
    "        print('query')\n",
    "        size = 0 \n",
    "        if counter==0: \n",
    "            df = transform(query['content'])\n",
    "            df['id_survey'] = id_sociograma\n",
    "            size = df.shape[0]\n",
    "        else: \n",
    "            df_new = transform(query['content'])\n",
    "            df_new['id_survey'] = id_sociograma\n",
    "            df = pd.concat([df, df_new])\n",
    "            size = df_new.shape[0]\n",
    "        print(size)\n",
    "        counter = counter + 1\n",
    "        print('OK: ', id_sociograma)\n",
    "        \n",
    "    except Exception as error: \n",
    "        print(error)\n",
    "        print('...')\n",
    "    print(df.shape)"
   ]
  },
  {
   "cell_type": "code",
   "execution_count": null,
   "id": "50fa98d3",
   "metadata": {},
   "outputs": [],
   "source": [
    "df[df.question_id==36][['name', 'response_contentPASSWORD']].groupby('name').count().hist(bins=20)\n",
    "plt.title('Compañeros seleccionados por participante')\n",
    "plt.show()"
   ]
  },
  {
   "cell_type": "code",
   "execution_count": null,
   "id": "cdaa2073",
   "metadata": {},
   "outputs": [],
   "source": [
    "df.to_csv('sociogramBBDD.csv',index=False )"
   ]
  },
  {
   "cell_type": "code",
   "execution_count": null,
   "id": "ff30f8f5",
   "metadata": {},
   "outputs": [],
   "source": [
    "df2= df.drop_duplicates(subset=['surveyId', 'enrollmentId'])\n",
    "df.created_at = pd.to_datetime(df.created_at).dt.date \n",
    "df2.created_at = pd.to_datetime(df2.created_at).dt.date "
   ]
  },
  {
   "cell_type": "code",
   "execution_count": null,
   "id": "d1fca73d",
   "metadata": {},
   "outputs": [],
   "source": [
    "df2.tail()"
   ]
  },
  {
   "cell_type": "code",
   "execution_count": null,
   "id": "49965f74",
   "metadata": {},
   "outputs": [],
   "source": [
    "df_plot = df.groupby('created_at').count()['index']\n",
    "df_plot2 = df2.groupby('created_at').count()['index']"
   ]
  },
  {
   "cell_type": "code",
   "execution_count": null,
   "id": "99bc9397",
   "metadata": {},
   "outputs": [],
   "source": [
    "df_plot.plot(figsize=(20,3))\n",
    "plt.xlabel('Fecha')\n",
    "plt.ylabel('Estudiantes')\n",
    "plt.show()"
   ]
  },
  {
   "cell_type": "code",
   "execution_count": null,
   "id": "0bc2b063",
   "metadata": {},
   "outputs": [],
   "source": [
    "df_plot = df_plot.reset_index()"
   ]
  },
  {
   "cell_type": "code",
   "execution_count": null,
   "id": "6e81a233",
   "metadata": {},
   "outputs": [],
   "source": [
    "df_plot2 = df_plot2.reset_index()"
   ]
  },
  {
   "cell_type": "code",
   "execution_count": null,
   "id": "50f64025",
   "metadata": {},
   "outputs": [],
   "source": [
    "import seaborn as sns \n",
    "sns.set(rc={'figure.figsize':(15.7,7.27)})\n",
    "sns.set_style(\"whitegrid\")\n",
    "sns.scatterplot(x=\"created_at\", y=\"index\",s=100, data=df_plot)\n",
    "plt.ylabel('Respuestas ')\n",
    "plt.xlabel('Fecha')\n",
    "plt.show()"
   ]
  },
  {
   "cell_type": "code",
   "execution_count": null,
   "id": "1a675a63",
   "metadata": {},
   "outputs": [],
   "source": [
    "df_plot['cumsum'] = df_plot['index'].cumsum()"
   ]
  },
  {
   "cell_type": "code",
   "execution_count": null,
   "id": "cdb0dd05",
   "metadata": {},
   "outputs": [],
   "source": [
    "df_plot2['cumsum'] = df_plot2['index'].cumsum()"
   ]
  },
  {
   "cell_type": "code",
   "execution_count": null,
   "id": "24119560",
   "metadata": {},
   "outputs": [],
   "source": [
    "sns.set(rc={'figure.figsize':(15.7,7.27)})\n",
    "sns.set_style(\"whitegrid\")\n",
    "sns.scatterplot(x=\"created_at\", y=\"cumsum\",s=100, data=df_plot2)\n",
    "plt.ylabel('Estudiantes ')\n",
    "plt.xlabel('Fecha')\n",
    "plt.show()"
   ]
  },
  {
   "cell_type": "code",
   "execution_count": null,
   "id": "a9a9fd74",
   "metadata": {},
   "outputs": [],
   "source": [
    "df_export = df_plot.merge(df_plot2, on='created_at')"
   ]
  },
  {
   "cell_type": "code",
   "execution_count": null,
   "id": "fe61b21a",
   "metadata": {},
   "outputs": [],
   "source": [
    "df_export.columns = ['fecha', 'respuestas', 'respuestas_acumuladas', 'usuarios', 'usuarios_acumulados']"
   ]
  },
  {
   "cell_type": "code",
   "execution_count": null,
   "id": "d1000614",
   "metadata": {},
   "outputs": [],
   "source": [
    "df_export.to_excel('consolidado-'+ str(pd.to_datetime(\"today\").strftime(\"%m-%d-%Y\"))+'.xlsx')"
   ]
  },
  {
   "cell_type": "code",
   "execution_count": null,
   "id": "faf6b1e6",
   "metadata": {},
   "outputs": [],
   "source": [
    "df_export"
   ]
  },
  {
   "cell_type": "code",
   "execution_count": null,
   "id": "c0e33dc7",
   "metadata": {},
   "outputs": [],
   "source": [
    "df2[['id_survey','name']].groupby('id_survey').count().hist()"
   ]
  },
  {
   "cell_type": "code",
   "execution_count": null,
   "id": "043f6b5b",
   "metadata": {},
   "outputs": [],
   "source": [
    "df2[df2.created_at<pd.to_datetime('2021-10-26')].name.nunique()"
   ]
  },
  {
   "cell_type": "code",
   "execution_count": null,
   "id": "6dedbb3f",
   "metadata": {},
   "outputs": [],
   "source": [
    "df2[df2.created_at<pd.to_datetime('2021-10-26')].enrollmentId.nunique() "
   ]
  },
  {
   "cell_type": "code",
   "execution_count": null,
   "id": "e741133a",
   "metadata": {},
   "outputs": [],
   "source": [
    "df2[df2.created_at<pd.to_datetime('2021-10-26')].id_survey.unique()"
   ]
  },
  {
   "cell_type": "code",
   "execution_count": null,
   "id": "e2d3c62a",
   "metadata": {},
   "outputs": [],
   "source": []
  }
 ],
 "metadata": {
  "kernelspec": {
   "display_name": "Python 3 (ipykernel)",
   "language": "python",
   "name": "python3"
  },
  "language_info": {
   "codemirror_mode": {
    "name": "ipython",
    "version": 3
   },
   "file_extension": ".py",
   "mimetype": "text/x-python",
   "name": "python",
   "nbconvert_exporter": "python",
   "pygments_lexer": "ipython3",
   "version": "3.7.3"
  }
 },
 "nbformat": 4,
 "nbformat_minor": 5
}
